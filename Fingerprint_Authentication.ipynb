{
  "cells": [
    {
      "cell_type": "markdown",
      "metadata": {
        "id": "view-in-github",
        "colab_type": "text"
      },
      "source": [
        "<a href=\"https://colab.research.google.com/github/saraoud-github/Fingerprint-Authentication/blob/master/Fingerprint_Authentication.ipynb\" target=\"_parent\"><img src=\"https://colab.research.google.com/assets/colab-badge.svg\" alt=\"Open In Colab\"/></a>"
      ]
    },
    {
      "cell_type": "code",
      "execution_count": null,
      "metadata": {
        "id": "aWrlpHCcmBMg"
      },
      "outputs": [],
      "source": [
        "!pip install keras\n",
        "!pip install np_utils\n",
        "!pip install hyperas\n",
        "\n"
      ]
    },
    {
      "cell_type": "code",
      "source": [
        "keras.__version__"
      ],
      "metadata": {
        "id": "4vVYjsYzI3pM"
      },
      "execution_count": null,
      "outputs": []
    },
    {
      "cell_type": "code",
      "execution_count": null,
      "metadata": {
        "colab": {
          "base_uri": "https://localhost:8080/"
        },
        "id": "xpYc8VfM3EWZ",
        "outputId": "a283e8c0-aafd-4402-e88e-4cc991d5796a"
      },
      "outputs": [
        {
          "output_type": "stream",
          "name": "stdout",
          "text": [
            "Drive already mounted at /content/gdrive; to attempt to forcibly remount, call drive.mount(\"/content/gdrive\", force_remount=True).\n"
          ]
        }
      ],
      "source": [
        "from google.colab import drive\n",
        "drive.mount(\"/content/gdrive\")"
      ]
    },
    {
      "cell_type": "code",
      "execution_count": null,
      "metadata": {
        "id": "2vjoRnXyA-f2"
      },
      "outputs": [],
      "source": [
        "import os\n",
        "import cv2\n",
        "from google.colab.patches import cv2_imshow\n",
        "import numpy as np\n",
        "import keras\n",
        "import tensorflow as tf\n",
        "import matplotlib.pyplot as plt\n",
        "from sklearn.model_selection import train_test_split\n",
        "from hyperopt import Trials, STATUS_OK, tpe\n",
        "from hyperas import optim\n",
        "from hyperas.distributions import choice, uniform\n",
        "from keras.models import Sequential\n",
        "from keras.layers.core import Dense, Dropout, Activation\n",
        "from keras.layers import Conv2D, MaxPooling2D, Flatten, BatchNormalization\n",
        "from keras.preprocessing.image import ImageDataGenerator\n"
      ]
    },
    {
      "cell_type": "code",
      "execution_count": null,
      "metadata": {
        "colab": {
          "base_uri": "https://localhost:8080/"
        },
        "id": "9WbfzbYau3Up",
        "outputId": "f944954b-26bc-4d33-80f9-98752ac01f92"
      },
      "outputs": [
        {
          "name": "stdout",
          "output_type": "stream",
          "text": [
            "Found 11161 images belonging to 5 classes.\n"
          ]
        }
      ],
      "source": [
        "#Checks number of images in drive\n",
        "train_datagen = ImageDataGenerator()\n",
        "\n",
        "training_set = train_datagen.flow_from_directory('gdrive/MyDrive/Datasets/Dataset/Classes')\n",
        "                                      "
      ]
    },
    {
      "cell_type": "code",
      "execution_count": null,
      "metadata": {
        "id": "XucI8sDWW6FO"
      },
      "outputs": [],
      "source": [
        "# Load data\n",
        "data_dir = 'gdrive/MyDrive/Datasets/Dataset/Classes'\n",
        "\n",
        "categories = ['A', 'L', 'R', 'T', 'W']\n",
        "data = []\n",
        "labels = []\n",
        "img_height = 256\n",
        "img_width = 256\n",
        "\n",
        "\n",
        "for category in categories:\n",
        "  path = os.path.join(data_dir, category)\n",
        "  label = categories.index(category)\n",
        "\n",
        "  for img in os.listdir(path):\n",
        "    labels.append(label)\n",
        "    imgpath = os.path.join(path, img)\n",
        "    img = cv2.imread(imgpath, cv2.IMREAD_GRAYSCALE)\n",
        "    img = cv2.resize(img, (img_height, img_width))\n",
        "    data.append(img)\n",
        "\n",
        "data_X, X_test, data_Y, Y_test= train_test_split(data, labels, test_size=0.05, random_state=12345)\n",
        "X_train, X_val, Y_train, Y_val = train_test_split(data_X, data_Y, test_size=0.2, random_state=12345)\n",
        "\n",
        "X_train_len = len(X_train)\n",
        "X_val_len = len(X_val)\n",
        "\n",
        "X_train = np.asarray(X_train)\n",
        "X_val = np.array(X_val)\n",
        "\n",
        "Y_train = np.asarray(Y_train)\n",
        "Y_val = np.asarray(Y_val)\n",
        "\n",
        "X_train = X_train.astype('float32')\n",
        "X_val = X_val.astype('float32')\n",
        "X_train /= 255\n",
        "X_val /= 255\n",
        "nb_classes = 5\n",
        "Y_train = keras.utils.np_utils.to_categorical(Y_train, nb_classes)\n",
        "Y_val = keras.utils.np_utils.to_categorical(Y_val, nb_classes)\n"
      ]
    },
    {
      "cell_type": "code",
      "execution_count": null,
      "metadata": {
        "colab": {
          "base_uri": "https://localhost:8080/"
        },
        "id": "-fGfbdSKX61S",
        "outputId": "90cac36d-93ae-4dab-a43d-9c8fff9a1759"
      },
      "outputs": [
        {
          "output_type": "stream",
          "name": "stdout",
          "text": [
            "Model: \"sequential_1\"\n",
            "_________________________________________________________________\n",
            " Layer (type)                Output Shape              Param #   \n",
            "=================================================================\n",
            " conv2d_3 (Conv2D)           (None, 254, 254, 32)      320       \n",
            "                                                                 \n",
            " max_pooling2d_3 (MaxPooling  (None, 127, 127, 32)     0         \n",
            " 2D)                                                             \n",
            "                                                                 \n",
            " conv2d_4 (Conv2D)           (None, 125, 125, 64)      18496     \n",
            "                                                                 \n",
            " max_pooling2d_4 (MaxPooling  (None, 62, 62, 64)       0         \n",
            " 2D)                                                             \n",
            "                                                                 \n",
            " conv2d_5 (Conv2D)           (None, 60, 60, 128)       73856     \n",
            "                                                                 \n",
            " max_pooling2d_5 (MaxPooling  (None, 30, 30, 128)      0         \n",
            " 2D)                                                             \n",
            "                                                                 \n",
            " flatten_1 (Flatten)         (None, 115200)            0         \n",
            "                                                                 \n",
            " dense_2 (Dense)             (None, 64)                7372864   \n",
            "                                                                 \n",
            " dense_3 (Dense)             (None, 5)                 325       \n",
            "                                                                 \n",
            "=================================================================\n",
            "Total params: 7,465,861\n",
            "Trainable params: 7,465,861\n",
            "Non-trainable params: 0\n",
            "_________________________________________________________________\n",
            "None\n",
            "Epoch 1/23\n",
            "266/266 - 38s - loss: 1.3875 - accuracy: 0.3919 - val_loss: 1.2242 - val_accuracy: 0.4578 - 38s/epoch - 142ms/step\n",
            "Epoch 2/23\n",
            "266/266 - 35s - loss: 1.0459 - accuracy: 0.5733 - val_loss: 0.9764 - val_accuracy: 0.6228 - 35s/epoch - 133ms/step\n",
            "Epoch 3/23\n",
            "266/266 - 35s - loss: 0.8687 - accuracy: 0.6503 - val_loss: 0.8168 - val_accuracy: 0.6752 - 35s/epoch - 133ms/step\n",
            "Epoch 4/23\n",
            "266/266 - 35s - loss: 0.7189 - accuracy: 0.7148 - val_loss: 0.7508 - val_accuracy: 0.7185 - 35s/epoch - 133ms/step\n",
            "Epoch 5/23\n",
            "266/266 - 35s - loss: 0.6098 - accuracy: 0.7678 - val_loss: 0.6988 - val_accuracy: 0.7341 - 35s/epoch - 133ms/step\n",
            "Epoch 6/23\n",
            "266/266 - 35s - loss: 0.4886 - accuracy: 0.8125 - val_loss: 0.6113 - val_accuracy: 0.7713 - 35s/epoch - 133ms/step\n",
            "Epoch 7/23\n",
            "266/266 - 35s - loss: 0.4419 - accuracy: 0.8274 - val_loss: 0.6011 - val_accuracy: 0.7793 - 35s/epoch - 133ms/step\n",
            "Epoch 8/23\n",
            "266/266 - 35s - loss: 0.3696 - accuracy: 0.8557 - val_loss: 0.6872 - val_accuracy: 0.7591 - 35s/epoch - 133ms/step\n",
            "Epoch 9/23\n",
            "266/266 - 35s - loss: 0.3214 - accuracy: 0.8813 - val_loss: 0.6012 - val_accuracy: 0.8067 - 35s/epoch - 133ms/step\n",
            "Epoch 10/23\n",
            "266/266 - 35s - loss: 0.2324 - accuracy: 0.9127 - val_loss: 0.6153 - val_accuracy: 0.7930 - 35s/epoch - 133ms/step\n",
            "Epoch 11/23\n",
            "266/266 - 35s - loss: 0.1706 - accuracy: 0.9406 - val_loss: 0.6830 - val_accuracy: 0.7996 - 35s/epoch - 133ms/step\n",
            "Epoch 12/23\n",
            "266/266 - 35s - loss: 0.1364 - accuracy: 0.9499 - val_loss: 1.0326 - val_accuracy: 0.7242 - 35s/epoch - 133ms/step\n",
            "Epoch 13/23\n",
            "266/266 - 35s - loss: 0.1156 - accuracy: 0.9601 - val_loss: 0.9285 - val_accuracy: 0.7930 - 35s/epoch - 133ms/step\n",
            "Epoch 14/23\n",
            "266/266 - 35s - loss: 0.0735 - accuracy: 0.9751 - val_loss: 1.3037 - val_accuracy: 0.7402 - 35s/epoch - 133ms/step\n",
            "Epoch 15/23\n",
            "266/266 - 35s - loss: 0.0564 - accuracy: 0.9836 - val_loss: 0.9611 - val_accuracy: 0.8001 - 35s/epoch - 133ms/step\n",
            "Epoch 16/23\n",
            "266/266 - 37s - loss: 0.0240 - accuracy: 0.9940 - val_loss: 1.1607 - val_accuracy: 0.7940 - 37s/epoch - 141ms/step\n",
            "Epoch 17/23\n",
            "266/266 - 35s - loss: 0.0669 - accuracy: 0.9810 - val_loss: 1.0944 - val_accuracy: 0.8081 - 35s/epoch - 133ms/step\n",
            "Epoch 18/23\n",
            "266/266 - 35s - loss: 0.0168 - accuracy: 0.9956 - val_loss: 1.1751 - val_accuracy: 0.8010 - 35s/epoch - 133ms/step\n",
            "Epoch 19/23\n",
            "266/266 - 35s - loss: 0.0047 - accuracy: 0.9998 - val_loss: 1.2915 - val_accuracy: 0.8128 - 35s/epoch - 133ms/step\n",
            "Epoch 20/23\n",
            "266/266 - 35s - loss: 0.0656 - accuracy: 0.9809 - val_loss: 1.3604 - val_accuracy: 0.7430 - 35s/epoch - 133ms/step\n",
            "Epoch 21/23\n",
            "266/266 - 35s - loss: 0.0702 - accuracy: 0.9835 - val_loss: 1.1670 - val_accuracy: 0.8029 - 35s/epoch - 133ms/step\n",
            "Epoch 22/23\n",
            "266/266 - 35s - loss: 0.0079 - accuracy: 0.9992 - val_loss: 1.2244 - val_accuracy: 0.8091 - 35s/epoch - 133ms/step\n",
            "Epoch 23/23\n",
            "266/266 - 35s - loss: 0.0023 - accuracy: 0.9998 - val_loss: 1.2838 - val_accuracy: 0.8133 - 35s/epoch - 133ms/step\n"
          ]
        }
      ],
      "source": [
        "img_height = 256\n",
        "img_width = 256\n",
        "\n",
        "cnn2 = Sequential([\n",
        "    Conv2D(32, kernel_size=(3, 3), activation='relu',input_shape=(img_height,img_width,1)),\n",
        "    MaxPooling2D(pool_size=(2, 2),strides=2),\n",
        "    Conv2D(64, kernel_size=(3, 3), activation='relu'),\n",
        "    MaxPooling2D(pool_size=(2, 2),strides=2),\n",
        "    Conv2D(128, kernel_size=(3, 3), activation='relu'),\n",
        "    MaxPooling2D(pool_size=(2, 2),strides=2),\n",
        "    Flatten(),\n",
        "    Dense(64, activation='relu'),\n",
        "    Dense(5, activation='softmax')\n",
        "])\n",
        "\n",
        "print(cnn2.summary())\n",
        "\n",
        "\n",
        "with tf.device('/device:GPU:0'):\n",
        "  cnn2.compile(loss='categorical_crossentropy', metrics=['accuracy'],\n",
        "                  optimizer=tf.keras.optimizers.Adam(learning_rate=0.001))\n",
        "  cnn2.fit(X_train, Y_train,batch_size=32, epochs=23, verbose=2, validation_data=(X_val, Y_val))\n",
        "\n"
      ]
    },
    {
      "cell_type": "code",
      "execution_count": null,
      "metadata": {
        "id": "DqVuZowZUouz",
        "colab": {
          "base_uri": "https://localhost:8080/"
        },
        "outputId": "34eeda28-df19-48a2-9596-5f32f01bb0d1"
      },
      "outputs": [
        {
          "output_type": "stream",
          "name": "stdout",
          "text": [
            "INFO:tensorflow:Assets written to: ml-model/assets\n"
          ]
        }
      ],
      "source": [
        "cnn2.save('ml-model')"
      ]
    },
    {
      "cell_type": "code",
      "source": [
        "!zip -r /content/ml-model.zip /content/ml-model"
      ],
      "metadata": {
        "colab": {
          "base_uri": "https://localhost:8080/"
        },
        "id": "c1qtIgu2v03u",
        "outputId": "e749613e-b201-4b8f-dbe3-79e287ee9f9e"
      },
      "execution_count": null,
      "outputs": [
        {
          "output_type": "stream",
          "name": "stdout",
          "text": [
            "  adding: content/ml-model/ (stored 0%)\n",
            "  adding: content/ml-model/saved_model.pb (deflated 89%)\n",
            "  adding: content/ml-model/variables/ (stored 0%)\n",
            "  adding: content/ml-model/variables/variables.index (deflated 66%)\n",
            "  adding: content/ml-model/variables/variables.data-00000-of-00001 (deflated 38%)\n",
            "  adding: content/ml-model/assets/ (stored 0%)\n",
            "  adding: content/ml-model/keras_metadata.pb (deflated 92%)\n"
          ]
        }
      ]
    },
    {
      "cell_type": "code",
      "source": [
        "from google.colab import files\n",
        "files.download('/content/ml-model.zip')"
      ],
      "metadata": {
        "colab": {
          "base_uri": "https://localhost:8080/",
          "height": 17
        },
        "id": "7Lxk0vsywHpn",
        "outputId": "10635969-2de0-4943-facc-b4ded59933f4"
      },
      "execution_count": null,
      "outputs": [
        {
          "output_type": "display_data",
          "data": {
            "text/plain": [
              "<IPython.core.display.Javascript object>"
            ],
            "application/javascript": [
              "\n",
              "    async function download(id, filename, size) {\n",
              "      if (!google.colab.kernel.accessAllowed) {\n",
              "        return;\n",
              "      }\n",
              "      const div = document.createElement('div');\n",
              "      const label = document.createElement('label');\n",
              "      label.textContent = `Downloading \"${filename}\": `;\n",
              "      div.appendChild(label);\n",
              "      const progress = document.createElement('progress');\n",
              "      progress.max = size;\n",
              "      div.appendChild(progress);\n",
              "      document.body.appendChild(div);\n",
              "\n",
              "      const buffers = [];\n",
              "      let downloaded = 0;\n",
              "\n",
              "      const channel = await google.colab.kernel.comms.open(id);\n",
              "      // Send a message to notify the kernel that we're ready.\n",
              "      channel.send({})\n",
              "\n",
              "      for await (const message of channel.messages) {\n",
              "        // Send a message to notify the kernel that we're ready.\n",
              "        channel.send({})\n",
              "        if (message.buffers) {\n",
              "          for (const buffer of message.buffers) {\n",
              "            buffers.push(buffer);\n",
              "            downloaded += buffer.byteLength;\n",
              "            progress.value = downloaded;\n",
              "          }\n",
              "        }\n",
              "      }\n",
              "      const blob = new Blob(buffers, {type: 'application/binary'});\n",
              "      const a = document.createElement('a');\n",
              "      a.href = window.URL.createObjectURL(blob);\n",
              "      a.download = filename;\n",
              "      div.appendChild(a);\n",
              "      a.click();\n",
              "      div.remove();\n",
              "    }\n",
              "  "
            ]
          },
          "metadata": {}
        },
        {
          "output_type": "display_data",
          "data": {
            "text/plain": [
              "<IPython.core.display.Javascript object>"
            ],
            "application/javascript": [
              "download(\"download_9329e2e0-f172-4502-85fa-7f796fce8efb\", \"ml-model.zip\", 55736712)"
            ]
          },
          "metadata": {}
        }
      ]
    },
    {
      "cell_type": "code",
      "execution_count": null,
      "metadata": {
        "colab": {
          "base_uri": "https://localhost:8080/"
        },
        "id": "U1t2OsG5rPE7",
        "outputId": "892f1bac-c583-4d31-f62a-7851226657ff"
      },
      "outputs": [
        {
          "output_type": "stream",
          "name": "stdout",
          "text": [
            "559\n",
            "559\n",
            "Test accuracy: 0.8336314558982849\n",
            "Test score: 0.9865067601203918\n"
          ]
        }
      ],
      "source": [
        "print(len(X_test))\n",
        "print(len(Y_test))\n",
        "\n",
        "\n",
        "X_test = np.asarray(X_test)\n",
        "X_test = X_test.astype('float32')\n",
        "X_test /= 255\n",
        "\n",
        "nb_classes = 5\n",
        "Y_test = keras.utils.np_utils.to_categorical(Y_test, nb_classes)\n",
        "\n",
        "score, acc = cnn2.evaluate(X_test, Y_test, verbose=0)\n",
        "print('Test accuracy:', acc)\n",
        "print('Test score:', score)"
      ]
    }
  ],
  "metadata": {
    "colab": {
      "collapsed_sections": [],
      "name": "Fingerprint Authentication",
      "provenance": [],
      "authorship_tag": "ABX9TyN9F9BC2M0O69ggSrGC5zsD",
      "include_colab_link": true
    },
    "kernelspec": {
      "display_name": "Python 3",
      "name": "python3"
    },
    "language_info": {
      "name": "python"
    },
    "accelerator": "GPU"
  },
  "nbformat": 4,
  "nbformat_minor": 0
}